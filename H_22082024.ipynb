{
 "cells": [
  {
   "cell_type": "markdown",
   "metadata": {},
   "source": [
    "# H_22082024\n",
    "# Analisis del volumen profile para encontrar zonas de baja cotización (FVG like) y como se comporta el precio en esas zonas.\n",
    "\n",
    "En este Python Notebook analizaremos, con datos de mt5, como se comporta el mercado en las zonas previamente definidas."
   ]
  },
  {
   "cell_type": "markdown",
   "metadata": {},
   "source": [
    "## Conceptos clave del perfil de mercado:\n",
    "\n",
    "1. **Oportunidad de precio en el tiempo (TPO):**\n",
    "    \n",
    "    representa los niveles de precio negociados durante intervalos de tiempo específicos. En un gráfico de perfil de mercado, las TPO indican la frecuencia con la que se negoció cada nivel de precio durante una sesión.\n",
    "    \n",
    "2. **Área de valor:**\n",
    "    \n",
    "    rango de precios en el que se produjo el 70 % de la actividad comercial durante una sesión. Esta área representa el valor justo percibido del mercado.\n",
    "    \n",
    "3. **Punto de control (POC):**\n",
    "    \n",
    "    el nivel de precio con el mayor volumen durante la sesión. El POC suele ser un nivel clave de soporte o resistencia.\n",
    "    \n",
    "4. **Balance inicial (IB):**\n",
    "    \n",
    "    rango de precios negociados durante la primera hora de la sesión de negociación. Proporciona una visión anticipada de la estructura del mercado del día."
   ]
  },
  {
   "cell_type": "code",
   "execution_count": 42,
   "metadata": {},
   "outputs": [],
   "source": [
    "import pandas as pd\n",
    "import numpy as np\n",
    "import MetaTrader5 as mt5\n",
    "import pytz\n",
    "from datetime import datetime\n",
    "import matplotlib.pyplot as plt\n",
    "import json\n",
    "import plotly.express as px\n",
    "import plotly.graph_objects as go"
   ]
  },
  {
   "cell_type": "code",
   "execution_count": 43,
   "metadata": {},
   "outputs": [],
   "source": [
    "# Variables\n",
    "\n",
    "ticker = \"GC_V\""
   ]
  },
  {
   "cell_type": "markdown",
   "metadata": {},
   "source": [
    "## 1. Definición de zonas de baja cotización para posterior analisis.\n",
    "El primer paso a dar es definir como encontraremos las **zonas de baja cotización** en una sesion de mercado de forma objetiva.\n",
    "\n",
    "A continuación, definiremos que es una zona de baja cotización para nuestro estudio:\n",
    "\n",
    "1. Analisis basado en el *volumen profile*, el cual analiza el numero de cotizaciónes por precio que tiene lugar en una sesión de trading predefinida (en nuestro estudio, una sesión será un dia 1D).\n",
    "2. La media y la StdDev del volumen profile de la sesión nos ayudarán a analizar correctamente las zonas.\n",
    "\n",
    "Por tanto, una **zona de baja cotización** consiste en:\n",
    "- Los niveles de precio que se encuentran N*StdDev(mean(volume_profile)) por debajo."
   ]
  },
  {
   "cell_type": "code",
   "execution_count": 44,
   "metadata": {},
   "outputs": [],
   "source": [
    "def data_from_mt5():\n",
    "    # connect to MetaTrader 5\n",
    "    if not mt5.initialize():\n",
    "        print(\"initialize() failed\")\n",
    "        mt5.shutdown()\n",
    "\n",
    "    # set time zone to UTC\n",
    "    timezone = pytz.timezone(\"Etc/UTC\")\n",
    "    # create 'datetime' objects in UTC time zone to avoid the implementation of a local time zone offset\n",
    "    utc_from = datetime(2024, 5, 1, tzinfo=timezone)\n",
    "    utc_to = datetime(2024, 6, 30, tzinfo=timezone)\n",
    "\n",
    "    # request AUDUSD ticks within 11.01.2020 - 11.01.2020\n",
    "    ohlcv = mt5.copy_rates_range(ticker, mt5.TIMEFRAME_M1, utc_from, utc_to)\n",
    "    daily_ohlcv = mt5.copy_rates_range(ticker, mt5.TIMEFRAME_D1, utc_from, utc_to)\n",
    "\n",
    "    mt5.shutdown()\n",
    "\n",
    "    df = pd.DataFrame(ohlcv)\n",
    "    df['time']=pd.to_datetime(df['time'], unit='s')\n",
    "\n",
    "    # adaptamos el dataframe D1 para luego hacer los analisis de las sesiones\n",
    "    daily_df = pd.DataFrame(daily_ohlcv)\n",
    "    daily_df['time']=pd.to_datetime(daily_df['time'], unit='s')\n",
    "\n",
    "    df = df.set_index('time')\n",
    "    del df['real_volume']\n",
    "    del df['spread']\n",
    "\n",
    "    daily_df = daily_df.set_index('time')\n",
    "    del daily_df['real_volume']\n",
    "    del daily_df['spread']\n",
    "\n",
    "    return df, daily_df\n",
    "\n",
    "def data_from_csv():\n",
    "    df = pd.read_csv('C:/Users/iamfr/AlgoTrading/DATA/GC_V_M1_20091028_20240628.csv', sep='\\t')\n",
    "    df['<DATE>'] = pd.to_datetime(df['<DATE>'] + ' ' + df['<TIME>'])\n",
    "    del df['<TIME>']\n",
    "    del df['<VOL>']\n",
    "    del df['<SPREAD>']\n",
    "    df.columns = ['time', 'open','high', 'low', 'close', 'tick_volume']\n",
    "    df = df.set_index('time')\n",
    "\n",
    "    daily_df = df.resample('1B').agg({'open': 'first', 'high': 'max', 'low': 'min', 'close': 'last', 'tick_volume': 'sum'})\n",
    "\n",
    "    return df, daily_df\n",
    "\n",
    "df, daily_df = data_from_csv()"
   ]
  },
  {
   "cell_type": "code",
   "execution_count": 45,
   "metadata": {},
   "outputs": [],
   "source": [
    "def create_market_profile(data):\n",
    "    profile = data.groupby('close')['tick_volume'].sum().reset_index()\n",
    "    total_volume = profile['tick_volume'].sum()\n",
    "    profile['volume_cumsum'] = profile['tick_volume'].cumsum()\n",
    "\n",
    "    value_area_cutoff = total_volume * 0.70\n",
    "    value_area_df = profile[profile['volume_cumsum'] <= value_area_cutoff]\n",
    "    POC = profile.loc[profile['tick_volume'].idxmax(), 'close']\n",
    "\n",
    "    return profile, value_area_df, POC\n",
    "\n",
    "def plot_market_profile(profile, value_area_df, POC):\n",
    "    plt.figure(figsize=(10, 6))\n",
    "    plt.barh(profile['close'], profile['tick_volume'], color='blue', edgecolor='black')\n",
    "    plt.barh(value_area_df['close'], value_area_df['tick_volume'], color='green', edgecolor='black')\n",
    "    plt.axhline(POC, color='red', linestyle='--', label=f'POC: {POC}')\n",
    "\n",
    "    plt.xlabel('Volume')\n",
    "    plt.ylabel('Price')\n",
    "    plt.title(f'Market Profile')\n",
    "    plt.legend()\n",
    "    plt.show()"
   ]
  },
  {
   "cell_type": "code",
   "execution_count": 46,
   "metadata": {},
   "outputs": [],
   "source": [
    "def get_no_fair_range_zone(df, threshold):\n",
    "    # Crear una máscara booleana para identificar dónde 'tick_volume' es inferior al umbral\n",
    "    df.sort_values(by=['close'])\n",
    "    mask = df['tick_volume'] < threshold\n",
    "\n",
    "    # Encontrar los índices donde empieza y termina cada zona\n",
    "    rangos = []\n",
    "    inicio = None\n",
    "    rsize = 0\n",
    "    rango_max = []\n",
    "\n",
    "    for i in range(len(df)):\n",
    "        if mask[i]:\n",
    "            if inicio is None:  # Se inicia una nueva zona\n",
    "                inicio = i\n",
    "        else:\n",
    "            if inicio is not None:  # Se cierra la zona actual\n",
    "                rangos.append([inicio, i - 1])\n",
    "                inicio = None\n",
    "\n",
    "    # Si la última zona no se cierra explícitamente en el bucle\n",
    "    if inicio is not None:\n",
    "        rangos.append([inicio, len(df) - 1])\n",
    "                 \n",
    "    for rango in rangos:\n",
    "        if rsize <= (rango[1] - rango[0]):  \n",
    "              rsize = rango[1] - rango[0]\n",
    "              rango_max = rango\n",
    "\n",
    "    if len(rangos) < 1:\n",
    "        return False\n",
    "    return [df.loc[rango_max[0], 'close'], df.loc[rango_max[1], 'close']]\n",
    "\n",
    "def get_max_vol_zone(df, threshold):\n",
    "    # Crear una máscara booleana para identificar dónde 'tick_volume' es inferior al umbral\n",
    "    df.sort_values(by=['close'])\n",
    "    mask = df['tick_volume'] > threshold\n",
    "\n",
    "    # Encontrar los índices donde empieza y termina cada zona\n",
    "    rangos = []\n",
    "    inicio = None\n",
    "    rsize = 0\n",
    "    rango_max = []\n",
    "\n",
    "    for i in range(len(df)):\n",
    "        if mask[i]:\n",
    "            if inicio is None:  # Se inicia una nueva zona\n",
    "                inicio = i\n",
    "        else:\n",
    "            if inicio is not None:  # Se cierra la zona actual\n",
    "                rangos.append([inicio, i - 1])\n",
    "                inicio = None\n",
    "\n",
    "    # Si la última zona no se cierra explícitamente en el bucle\n",
    "    if inicio is not None:\n",
    "        rangos.append([inicio, len(df) - 1])\n",
    "                 \n",
    "    for rango in rangos:\n",
    "        if rsize <= (rango[1] - rango[0]):  \n",
    "              rsize = rango[1] - rango[0]\n",
    "              rango_max = rango\n",
    "\n",
    "    if len(rangos) < 1:\n",
    "        return False\n",
    "    return [df.loc[rango_max[0], 'close'], df.loc[rango_max[1], 'close']]"
   ]
  },
  {
   "cell_type": "code",
   "execution_count": 47,
   "metadata": {},
   "outputs": [],
   "source": [
    "# iteramos cada dia, y cada zona\n",
    "def get_no_fair_zone_by_day(df):\n",
    "    out = []\n",
    "\n",
    "    for index1, day in df.groupby(df.index.date):\n",
    "\n",
    "        profile, value_area_df, POC = create_market_profile(day)\n",
    "        mean = profile['tick_volume'].mean()\n",
    "        stddev = profile['tick_volume'].std()\n",
    "        threshold = mean + stddev * 0.5\n",
    "\n",
    "        no_fair_value_zone = get_no_fair_range_zone(profile, threshold)\n",
    "        \n",
    "        output = {\n",
    "            \"time\": index1.strftime(\"%Y-%m-%d\"),\n",
    "            \"zone_high\": no_fair_value_zone[1],\n",
    "            \"zone_low\": no_fair_value_zone[0],\n",
    "        }\n",
    "        out.append(output)\n",
    "\n",
    "    return out\n",
    "\n",
    "# iteramos cada dia, y cada zona\n",
    "def get_max_vol_zone_by_day(df):\n",
    "    out = []\n",
    "\n",
    "    for index1, day in df.groupby(df.index.date):\n",
    "\n",
    "        profile, value_area_df, POC = create_market_profile(day)\n",
    "        mean = profile['tick_volume'].mean()\n",
    "        stddev = profile['tick_volume'].std()\n",
    "        threshold = mean + stddev * 0.5\n",
    "\n",
    "        no_fair_value_zone = get_max_vol_zone(profile, threshold)\n",
    "        \n",
    "        output = {\n",
    "            \"time\": index1.strftime(\"%Y-%m-%d\"),\n",
    "            \"zone_high\": no_fair_value_zone[1],\n",
    "            \"zone_low\": no_fair_value_zone[0],\n",
    "        }\n",
    "        out.append(output)\n",
    "\n",
    "    return out"
   ]
  },
  {
   "cell_type": "markdown",
   "metadata": {},
   "source": [
    "## Analisis de datos\n",
    "\n",
    "A partir de aqui, ya disponemos de las herramientas de manipulación de los datos, como para poder empezar a analizarlos.\n",
    "\n",
    "Disponemos de una lista \"ZONES_BY_DAY\", la qual nos permitirá referenciar las zonas de baja cotización por dia, y sus niveles de precio. Asi podemos hacer un analisis más comodo."
   ]
  },
  {
   "cell_type": "code",
   "execution_count": 48,
   "metadata": {},
   "outputs": [
    {
     "ename": "KeyError",
     "evalue": "array([datetime.date(2009, 10, 28), datetime.date(2009, 10, 29),\n       datetime.date(2009, 10, 30), ..., datetime.date(2024, 6, 26),\n       datetime.date(2024, 6, 27), datetime.date(2024, 6, 28)],\n      dtype=object)",
     "output_type": "error",
     "traceback": [
      "\u001b[1;31m---------------------------------------------------------------------------\u001b[0m",
      "\u001b[1;31mKeyError\u001b[0m                                  Traceback (most recent call last)",
      "\u001b[1;32m~\\AppData\\Local\\Temp\\ipykernel_14812\\222288143.py\u001b[0m in \u001b[0;36m?\u001b[1;34m()\u001b[0m\n\u001b[0;32m      8\u001b[0m \u001b[0mzones\u001b[0m \u001b[1;33m=\u001b[0m \u001b[0mget_max_vol_zone_by_day\u001b[0m\u001b[1;33m(\u001b[0m\u001b[0mdf\u001b[0m\u001b[1;33m)\u001b[0m\u001b[1;33m\u001b[0m\u001b[1;33m\u001b[0m\u001b[0m\n\u001b[0;32m      9\u001b[0m \u001b[0mdf_zones\u001b[0m \u001b[1;33m=\u001b[0m \u001b[0mpd\u001b[0m\u001b[1;33m.\u001b[0m\u001b[0mDataFrame\u001b[0m\u001b[1;33m(\u001b[0m\u001b[0mzones\u001b[0m\u001b[1;33m)\u001b[0m\u001b[1;33m\u001b[0m\u001b[1;33m\u001b[0m\u001b[0m\n\u001b[0;32m     10\u001b[0m \u001b[0mdf_zones\u001b[0m \u001b[1;33m=\u001b[0m \u001b[0mdf_zones\u001b[0m\u001b[1;33m.\u001b[0m\u001b[0mset_index\u001b[0m\u001b[1;33m(\u001b[0m\u001b[1;34m'time'\u001b[0m\u001b[1;33m)\u001b[0m\u001b[1;33m\u001b[0m\u001b[1;33m\u001b[0m\u001b[0m\n\u001b[0;32m     11\u001b[0m \u001b[1;33m\u001b[0m\u001b[0m\n\u001b[1;32m---> 12\u001b[1;33m \u001b[0mmain_df\u001b[0m \u001b[1;33m=\u001b[0m \u001b[0mpd\u001b[0m\u001b[1;33m.\u001b[0m\u001b[0mmerge\u001b[0m\u001b[1;33m(\u001b[0m\u001b[0mdaily_df\u001b[0m\u001b[1;33m,\u001b[0m \u001b[0mdf_zones\u001b[0m\u001b[1;33m,\u001b[0m \u001b[0mon\u001b[0m\u001b[1;33m=\u001b[0m\u001b[0mdaily_df\u001b[0m\u001b[1;33m.\u001b[0m\u001b[0mindex\u001b[0m\u001b[1;33m.\u001b[0m\u001b[0mdate\u001b[0m\u001b[1;33m)\u001b[0m\u001b[1;33m\u001b[0m\u001b[1;33m\u001b[0m\u001b[0m\n\u001b[0m\u001b[0;32m     13\u001b[0m \u001b[0mmain_df\u001b[0m \u001b[1;33m=\u001b[0m \u001b[0mmain_df\u001b[0m\u001b[1;33m.\u001b[0m\u001b[0mset_index\u001b[0m\u001b[1;33m(\u001b[0m\u001b[1;34m'key_0'\u001b[0m\u001b[1;33m)\u001b[0m\u001b[1;33m\u001b[0m\u001b[1;33m\u001b[0m\u001b[0m\n\u001b[0;32m     14\u001b[0m \u001b[1;33m\u001b[0m\u001b[0m\n\u001b[0;32m     15\u001b[0m \u001b[0mmain_df\u001b[0m\u001b[1;33m\u001b[0m\u001b[1;33m\u001b[0m\u001b[0m\n",
      "\u001b[1;32mc:\\Python312\\Lib\\site-packages\\pandas\\core\\reshape\\merge.py\u001b[0m in \u001b[0;36m?\u001b[1;34m(left, right, how, on, left_on, right_on, left_index, right_index, sort, suffixes, copy, indicator, validate)\u001b[0m\n\u001b[0;32m    166\u001b[0m             \u001b[0mvalidate\u001b[0m\u001b[1;33m=\u001b[0m\u001b[0mvalidate\u001b[0m\u001b[1;33m,\u001b[0m\u001b[1;33m\u001b[0m\u001b[1;33m\u001b[0m\u001b[0m\n\u001b[0;32m    167\u001b[0m             \u001b[0mcopy\u001b[0m\u001b[1;33m=\u001b[0m\u001b[0mcopy\u001b[0m\u001b[1;33m,\u001b[0m\u001b[1;33m\u001b[0m\u001b[1;33m\u001b[0m\u001b[0m\n\u001b[0;32m    168\u001b[0m         \u001b[1;33m)\u001b[0m\u001b[1;33m\u001b[0m\u001b[1;33m\u001b[0m\u001b[0m\n\u001b[0;32m    169\u001b[0m     \u001b[1;32melse\u001b[0m\u001b[1;33m:\u001b[0m\u001b[1;33m\u001b[0m\u001b[1;33m\u001b[0m\u001b[0m\n\u001b[1;32m--> 170\u001b[1;33m         op = _MergeOperation(\n\u001b[0m\u001b[0;32m    171\u001b[0m             \u001b[0mleft_df\u001b[0m\u001b[1;33m,\u001b[0m\u001b[1;33m\u001b[0m\u001b[1;33m\u001b[0m\u001b[0m\n\u001b[0;32m    172\u001b[0m             \u001b[0mright_df\u001b[0m\u001b[1;33m,\u001b[0m\u001b[1;33m\u001b[0m\u001b[1;33m\u001b[0m\u001b[0m\n\u001b[0;32m    173\u001b[0m             \u001b[0mhow\u001b[0m\u001b[1;33m=\u001b[0m\u001b[0mhow\u001b[0m\u001b[1;33m,\u001b[0m\u001b[1;33m\u001b[0m\u001b[1;33m\u001b[0m\u001b[0m\n",
      "\u001b[1;32mc:\\Python312\\Lib\\site-packages\\pandas\\core\\reshape\\merge.py\u001b[0m in \u001b[0;36m?\u001b[1;34m(self, left, right, how, on, left_on, right_on, left_index, right_index, sort, suffixes, indicator, validate)\u001b[0m\n\u001b[0;32m    790\u001b[0m             \u001b[0mself\u001b[0m\u001b[1;33m.\u001b[0m\u001b[0mright_join_keys\u001b[0m\u001b[1;33m,\u001b[0m\u001b[1;33m\u001b[0m\u001b[1;33m\u001b[0m\u001b[0m\n\u001b[0;32m    791\u001b[0m             \u001b[0mself\u001b[0m\u001b[1;33m.\u001b[0m\u001b[0mjoin_names\u001b[0m\u001b[1;33m,\u001b[0m\u001b[1;33m\u001b[0m\u001b[1;33m\u001b[0m\u001b[0m\n\u001b[0;32m    792\u001b[0m             \u001b[0mleft_drop\u001b[0m\u001b[1;33m,\u001b[0m\u001b[1;33m\u001b[0m\u001b[1;33m\u001b[0m\u001b[0m\n\u001b[0;32m    793\u001b[0m             \u001b[0mright_drop\u001b[0m\u001b[1;33m,\u001b[0m\u001b[1;33m\u001b[0m\u001b[1;33m\u001b[0m\u001b[0m\n\u001b[1;32m--> 794\u001b[1;33m         \u001b[1;33m)\u001b[0m \u001b[1;33m=\u001b[0m \u001b[0mself\u001b[0m\u001b[1;33m.\u001b[0m\u001b[0m_get_merge_keys\u001b[0m\u001b[1;33m(\u001b[0m\u001b[1;33m)\u001b[0m\u001b[1;33m\u001b[0m\u001b[1;33m\u001b[0m\u001b[0m\n\u001b[0m\u001b[0;32m    795\u001b[0m \u001b[1;33m\u001b[0m\u001b[0m\n\u001b[0;32m    796\u001b[0m         \u001b[1;32mif\u001b[0m \u001b[0mleft_drop\u001b[0m\u001b[1;33m:\u001b[0m\u001b[1;33m\u001b[0m\u001b[1;33m\u001b[0m\u001b[0m\n\u001b[0;32m    797\u001b[0m             \u001b[0mself\u001b[0m\u001b[1;33m.\u001b[0m\u001b[0mleft\u001b[0m \u001b[1;33m=\u001b[0m \u001b[0mself\u001b[0m\u001b[1;33m.\u001b[0m\u001b[0mleft\u001b[0m\u001b[1;33m.\u001b[0m\u001b[0m_drop_labels_or_levels\u001b[0m\u001b[1;33m(\u001b[0m\u001b[0mleft_drop\u001b[0m\u001b[1;33m)\u001b[0m\u001b[1;33m\u001b[0m\u001b[1;33m\u001b[0m\u001b[0m\n",
      "\u001b[1;32mc:\\Python312\\Lib\\site-packages\\pandas\\core\\reshape\\merge.py\u001b[0m in \u001b[0;36m?\u001b[1;34m(self)\u001b[0m\n\u001b[0;32m   1281\u001b[0m                         \u001b[1;31m# Then we're either Hashable or a wrong-length arraylike,\u001b[0m\u001b[1;33m\u001b[0m\u001b[1;33m\u001b[0m\u001b[0m\n\u001b[0;32m   1282\u001b[0m                         \u001b[1;31m#  the latter of which will raise\u001b[0m\u001b[1;33m\u001b[0m\u001b[1;33m\u001b[0m\u001b[0m\n\u001b[0;32m   1283\u001b[0m                         \u001b[0mrk\u001b[0m \u001b[1;33m=\u001b[0m \u001b[0mcast\u001b[0m\u001b[1;33m(\u001b[0m\u001b[0mHashable\u001b[0m\u001b[1;33m,\u001b[0m \u001b[0mrk\u001b[0m\u001b[1;33m)\u001b[0m\u001b[1;33m\u001b[0m\u001b[1;33m\u001b[0m\u001b[0m\n\u001b[0;32m   1284\u001b[0m                         \u001b[1;32mif\u001b[0m \u001b[0mrk\u001b[0m \u001b[1;32mis\u001b[0m \u001b[1;32mnot\u001b[0m \u001b[1;32mNone\u001b[0m\u001b[1;33m:\u001b[0m\u001b[1;33m\u001b[0m\u001b[1;33m\u001b[0m\u001b[0m\n\u001b[1;32m-> 1285\u001b[1;33m                             \u001b[0mright_keys\u001b[0m\u001b[1;33m.\u001b[0m\u001b[0mappend\u001b[0m\u001b[1;33m(\u001b[0m\u001b[0mright\u001b[0m\u001b[1;33m.\u001b[0m\u001b[0m_get_label_or_level_values\u001b[0m\u001b[1;33m(\u001b[0m\u001b[0mrk\u001b[0m\u001b[1;33m)\u001b[0m\u001b[1;33m)\u001b[0m\u001b[1;33m\u001b[0m\u001b[1;33m\u001b[0m\u001b[0m\n\u001b[0m\u001b[0;32m   1286\u001b[0m                             \u001b[0mjoin_names\u001b[0m\u001b[1;33m.\u001b[0m\u001b[0mappend\u001b[0m\u001b[1;33m(\u001b[0m\u001b[0mrk\u001b[0m\u001b[1;33m)\u001b[0m\u001b[1;33m\u001b[0m\u001b[1;33m\u001b[0m\u001b[0m\n\u001b[0;32m   1287\u001b[0m                         \u001b[1;32melse\u001b[0m\u001b[1;33m:\u001b[0m\u001b[1;33m\u001b[0m\u001b[1;33m\u001b[0m\u001b[0m\n\u001b[0;32m   1288\u001b[0m                             \u001b[1;31m# work-around for merge_asof(right_index=True)\u001b[0m\u001b[1;33m\u001b[0m\u001b[1;33m\u001b[0m\u001b[0m\n",
      "\u001b[1;32mc:\\Python312\\Lib\\site-packages\\pandas\\core\\generic.py\u001b[0m in \u001b[0;36m?\u001b[1;34m(self, key, axis)\u001b[0m\n\u001b[0;32m   1907\u001b[0m             \u001b[0mvalues\u001b[0m \u001b[1;33m=\u001b[0m \u001b[0mself\u001b[0m\u001b[1;33m.\u001b[0m\u001b[0mxs\u001b[0m\u001b[1;33m(\u001b[0m\u001b[0mkey\u001b[0m\u001b[1;33m,\u001b[0m \u001b[0maxis\u001b[0m\u001b[1;33m=\u001b[0m\u001b[0mother_axes\u001b[0m\u001b[1;33m[\u001b[0m\u001b[1;36m0\u001b[0m\u001b[1;33m]\u001b[0m\u001b[1;33m)\u001b[0m\u001b[1;33m.\u001b[0m\u001b[0m_values\u001b[0m\u001b[1;33m\u001b[0m\u001b[1;33m\u001b[0m\u001b[0m\n\u001b[0;32m   1908\u001b[0m         \u001b[1;32melif\u001b[0m \u001b[0mself\u001b[0m\u001b[1;33m.\u001b[0m\u001b[0m_is_level_reference\u001b[0m\u001b[1;33m(\u001b[0m\u001b[0mkey\u001b[0m\u001b[1;33m,\u001b[0m \u001b[0maxis\u001b[0m\u001b[1;33m=\u001b[0m\u001b[0maxis\u001b[0m\u001b[1;33m)\u001b[0m\u001b[1;33m:\u001b[0m\u001b[1;33m\u001b[0m\u001b[1;33m\u001b[0m\u001b[0m\n\u001b[0;32m   1909\u001b[0m             \u001b[0mvalues\u001b[0m \u001b[1;33m=\u001b[0m \u001b[0mself\u001b[0m\u001b[1;33m.\u001b[0m\u001b[0maxes\u001b[0m\u001b[1;33m[\u001b[0m\u001b[0maxis\u001b[0m\u001b[1;33m]\u001b[0m\u001b[1;33m.\u001b[0m\u001b[0mget_level_values\u001b[0m\u001b[1;33m(\u001b[0m\u001b[0mkey\u001b[0m\u001b[1;33m)\u001b[0m\u001b[1;33m.\u001b[0m\u001b[0m_values\u001b[0m\u001b[1;33m\u001b[0m\u001b[1;33m\u001b[0m\u001b[0m\n\u001b[0;32m   1910\u001b[0m         \u001b[1;32melse\u001b[0m\u001b[1;33m:\u001b[0m\u001b[1;33m\u001b[0m\u001b[1;33m\u001b[0m\u001b[0m\n\u001b[1;32m-> 1911\u001b[1;33m             \u001b[1;32mraise\u001b[0m \u001b[0mKeyError\u001b[0m\u001b[1;33m(\u001b[0m\u001b[0mkey\u001b[0m\u001b[1;33m)\u001b[0m\u001b[1;33m\u001b[0m\u001b[1;33m\u001b[0m\u001b[0m\n\u001b[0m\u001b[0;32m   1912\u001b[0m \u001b[1;33m\u001b[0m\u001b[0m\n\u001b[0;32m   1913\u001b[0m         \u001b[1;31m# Check for duplicates\u001b[0m\u001b[1;33m\u001b[0m\u001b[1;33m\u001b[0m\u001b[0m\n\u001b[0;32m   1914\u001b[0m         \u001b[1;32mif\u001b[0m \u001b[0mvalues\u001b[0m\u001b[1;33m.\u001b[0m\u001b[0mndim\u001b[0m \u001b[1;33m>\u001b[0m \u001b[1;36m1\u001b[0m\u001b[1;33m:\u001b[0m\u001b[1;33m\u001b[0m\u001b[1;33m\u001b[0m\u001b[0m\n",
      "\u001b[1;31mKeyError\u001b[0m: array([datetime.date(2009, 10, 28), datetime.date(2009, 10, 29),\n       datetime.date(2009, 10, 30), ..., datetime.date(2024, 6, 26),\n       datetime.date(2024, 6, 27), datetime.date(2024, 6, 28)],\n      dtype=object)"
     ]
    }
   ],
   "source": [
    "# Creamos un dataframe con toda la información que nos hará falta.\n",
    "\n",
    "complete_df_D1 = daily_df.copy()\n",
    "complete_df_D1['zone_high'] = np.nan\n",
    "complete_df_D1['zone_low'] = np.nan\n",
    "\n",
    "#zones = get_no_fair_zone_by_day(df)\n",
    "zones = get_max_vol_zone_by_day(df)\n",
    "df_zones = pd.DataFrame(zones)\n",
    "df_zones = df_zones.set_index('time')\n",
    "\n",
    "\n",
    "main_df = pd.merge(daily_df, df_zones, on=daily_df.index.date) # Arreglar esto, porque me da problema\n",
    "main_df = main_df.set_index('key_0')\n",
    "\n",
    "main_df"
   ]
  },
  {
   "cell_type": "markdown",
   "metadata": {},
   "source": [
    "### 1. Next session close zone\n",
    "\n",
    "Analizaremos si en la siguiente sesión, el precio cierra el \"vacio\" creado por la zona de baja cotización del dia anterior."
   ]
  },
  {
   "cell_type": "code",
   "execution_count": null,
   "metadata": {},
   "outputs": [
    {
     "data": {
      "text/plain": [
       "68.75"
      ]
     },
     "execution_count": 19,
     "metadata": {},
     "output_type": "execute_result"
    }
   ],
   "source": [
    "def num1_next_session_close_zone(df):\n",
    "    counter = 0\n",
    "\n",
    "    for i in range(len(df.index) - 2):\n",
    "        high = df.iloc[i+1]['high']\n",
    "        low = df.iloc[i+1]['low']\n",
    "        zone_high = df.iloc[i]['zone_high']\n",
    "        zone_low = df.iloc[i]['zone_low']\n",
    "\n",
    "        if zone_high <= high and zone_high >= low and zone_low >= low and zone_low <= high:\n",
    "            counter = counter + 1\n",
    "\n",
    "    return (counter / (len(df.index) - 1)) * 100\n",
    "\n",
    "num1_next_session_close_zone(main_df)"
   ]
  },
  {
   "cell_type": "code",
   "execution_count": null,
   "metadata": {},
   "outputs": [
    {
     "data": {
      "text/plain": [
       "59.375"
      ]
     },
     "execution_count": 20,
     "metadata": {},
     "output_type": "execute_result"
    }
   ],
   "source": [
    "def num2_next_session_close_half_zone(df):\n",
    "    counter = 0\n",
    "\n",
    "    for i in range(len(df.index) - 2):\n",
    "        apertura = df.iloc[i+1]['open']\n",
    "        high = df.iloc[i+1]['high']\n",
    "        low = df.iloc[i+1]['low']\n",
    "        zone_high = df.iloc[i]['zone_high']\n",
    "        zone_low = df.iloc[i]['zone_low']\n",
    "        zone_mid = ((zone_high - zone_low) / 2) + zone_low\n",
    "\n",
    "        if apertura >= zone_high:\n",
    "            # Mitad superior\n",
    "            if zone_high <= high and zone_high >= low and zone_mid >= low and zone_mid <= high:\n",
    "                counter = counter + 1\n",
    "\n",
    "        if apertura <= zone_low:\n",
    "            # Mitad inferior\n",
    "            if zone_mid <= high and zone_mid >= low and zone_low >= low and zone_low <= high:\n",
    "                counter = counter + 1\n",
    "\n",
    "    return (counter / (len(df.index) - 1)) * 100\n",
    "\n",
    "num2_next_session_close_half_zone(main_df)"
   ]
  }
 ],
 "metadata": {
  "kernelspec": {
   "display_name": "Python 3",
   "language": "python",
   "name": "python3"
  },
  "language_info": {
   "codemirror_mode": {
    "name": "ipython",
    "version": 3
   },
   "file_extension": ".py",
   "mimetype": "text/x-python",
   "name": "python",
   "nbconvert_exporter": "python",
   "pygments_lexer": "ipython3",
   "version": "3.12.2"
  }
 },
 "nbformat": 4,
 "nbformat_minor": 2
}
