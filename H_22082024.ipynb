{
 "cells": [
  {
   "cell_type": "markdown",
   "metadata": {},
   "source": [
    "# H_22082024\n",
    "# Analisis del volumen profile para encontrar zonas de baja cotización (FVG like) y como se comporta el precio en esas zonas.\n",
    "\n",
    "En este Python Notebook analizaremos, con datos de mt5, como se comporta el mercado en las zonas previamente definidas."
   ]
  },
  {
   "cell_type": "markdown",
   "metadata": {},
   "source": [
    "## Conceptos clave del perfil de mercado:\n",
    "\n",
    "1. **Oportunidad de precio en el tiempo (TPO):**\n",
    "    \n",
    "    representa los niveles de precio negociados durante intervalos de tiempo específicos. En un gráfico de perfil de mercado, las TPO indican la frecuencia con la que se negoció cada nivel de precio durante una sesión.\n",
    "    \n",
    "2. **Área de valor:**\n",
    "    \n",
    "    rango de precios en el que se produjo el 70 % de la actividad comercial durante una sesión. Esta área representa el valor justo percibido del mercado.\n",
    "    \n",
    "3. **Punto de control (POC):**\n",
    "    \n",
    "    el nivel de precio con el mayor volumen durante la sesión. El POC suele ser un nivel clave de soporte o resistencia.\n",
    "    \n",
    "4. **Balance inicial (IB):**\n",
    "    \n",
    "    rango de precios negociados durante la primera hora de la sesión de negociación. Proporciona una visión anticipada de la estructura del mercado del día."
   ]
  },
  {
   "cell_type": "code",
   "execution_count": 115,
   "metadata": {},
   "outputs": [],
   "source": [
    "import pandas as pd\n",
    "import numpy as np\n",
    "import MetaTrader5 as mt5\n",
    "import pytz\n",
    "from datetime import datetime\n",
    "import matplotlib.pyplot as plt\n",
    "import json\n",
    "import plotly.express as px\n",
    "import plotly.graph_objects as go"
   ]
  },
  {
   "cell_type": "code",
   "execution_count": 131,
   "metadata": {},
   "outputs": [],
   "source": [
    "# Variables\n",
    "\n",
    "ticker = \"GC_V\""
   ]
  },
  {
   "cell_type": "markdown",
   "metadata": {},
   "source": [
    "## 1. Definición de zonas de baja cotización para posterior analisis.\n",
    "El primer paso a dar es definir como encontraremos las **zonas de baja cotización** en una sesion de mercado de forma objetiva.\n",
    "\n",
    "A continuación, definiremos que es una zona de baja cotización para nuestro estudio:\n",
    "\n",
    "1. Analisis basado en el *volumen profile*, el cual analiza el numero de cotizaciónes por precio que tiene lugar en una sesión de trading predefinida (en nuestro estudio, una sesión será un dia 1D).\n",
    "2. La media y la StdDev del volumen profile de la sesión nos ayudarán a analizar correctamente las zonas.\n",
    "\n",
    "Por tanto, una **zona de baja cotización** consiste en:\n",
    "- Los niveles de precio que se encuentran N*StdDev(mean(volume_profile)) por debajo."
   ]
  },
  {
   "cell_type": "code",
   "execution_count": 132,
   "metadata": {},
   "outputs": [
    {
     "name": "stdout",
     "output_type": "stream",
     "text": [
      "TerminalInfo(community_account=True, community_connection=True, connected=True, dlls_allowed=True, trade_allowed=False, tradeapi_disabled=False, email_enabled=False, ftp_enabled=False, notifications_enabled=False, mqid=True, build=4410, maxbars=100000, codepage=1252, ping_last=40131, community_balance=0.0, retransmission=4.310665180230398, company='MetaQuotes Software Corp.', name='MetaTrader 5', language='Spanish', path='C:\\\\Program Files\\\\MetaTrader 5', data_path='C:\\\\Users\\\\iamfr\\\\AppData\\\\Roaming\\\\MetaQuotes\\\\Terminal\\\\D0E8209F77C8CF37AD8BF550E51FF075', commondata_path='C:\\\\Users\\\\iamfr\\\\AppData\\\\Roaming\\\\MetaQuotes\\\\Terminal\\\\Common')\n",
      "(500, 4410, '21 Jun 2024')\n"
     ]
    },
    {
     "data": {
      "text/plain": [
       "True"
      ]
     },
     "execution_count": 132,
     "metadata": {},
     "output_type": "execute_result"
    }
   ],
   "source": [
    "# connect to MetaTrader 5\n",
    "if not mt5.initialize():\n",
    "    print(\"initialize() failed\")\n",
    "    mt5.shutdown()\n",
    "\n",
    "# request connection status and parameters\n",
    "print(mt5.terminal_info())\n",
    "# get data on MetaTrader 5 version\n",
    "print(mt5.version())\n",
    "\n",
    "# set time zone to UTC\n",
    "timezone = pytz.timezone(\"Etc/UTC\")\n",
    "# create 'datetime' objects in UTC time zone to avoid the implementation of a local time zone offset\n",
    "utc_from = datetime(2024, 6, 10, tzinfo=timezone)\n",
    "utc_to = datetime(2024, 6, 30, tzinfo=timezone)\n",
    "\n",
    "# request AUDUSD ticks within 11.01.2020 - 11.01.2020\n",
    "ohlcv = mt5.copy_rates_range(ticker, mt5.TIMEFRAME_M1, utc_from, utc_to)\n",
    "daily_ohlcv = mt5.copy_rates_range(ticker, mt5.TIMEFRAME_D1, utc_from, utc_to)\n",
    "\n",
    "mt5.shutdown()"
   ]
  },
  {
   "cell_type": "code",
   "execution_count": 133,
   "metadata": {},
   "outputs": [],
   "source": [
    "# convert time in seconds into the datetime format\n",
    "df = pd.DataFrame(ohlcv)\n",
    "df['time']=pd.to_datetime(df['time'], unit='s')\n",
    "\n",
    "# adaptamos el dataframe D1 para luego hacer los analisis de las sesiones\n",
    "daily_df = pd.DataFrame(daily_ohlcv)\n",
    "daily_df['time']=pd.to_datetime(df['time'], unit='s')\n",
    "\n",
    "df = df.set_index('time')\n",
    "del df['real_volume']\n",
    "del df['spread']\n",
    "\n",
    "daily_df = daily_df.set_index('time')\n",
    "del daily_df['real_volume']\n",
    "del daily_df['spread']"
   ]
  },
  {
   "cell_type": "code",
   "execution_count": 134,
   "metadata": {},
   "outputs": [],
   "source": [
    "def create_market_profile(data):\n",
    "    profile = data.groupby('close')['tick_volume'].sum().reset_index()\n",
    "    total_volume = profile['tick_volume'].sum()\n",
    "    profile['volume_cumsum'] = profile['tick_volume'].cumsum()\n",
    "\n",
    "    value_area_cutoff = total_volume * 0.70\n",
    "    value_area_df = profile[profile['volume_cumsum'] <= value_area_cutoff]\n",
    "    POC = profile.loc[profile['tick_volume'].idxmax(), 'close']\n",
    "\n",
    "    return profile, value_area_df, POC\n",
    "\n",
    "def plot_market_profile(profile, value_area_df, POC):\n",
    "    plt.figure(figsize=(10, 6))\n",
    "    plt.barh(profile['close'], profile['tick_volume'], color='blue', edgecolor='black')\n",
    "    plt.barh(value_area_df['close'], value_area_df['tick_volume'], color='green', edgecolor='black')\n",
    "    plt.axhline(POC, color='red', linestyle='--', label=f'POC: {POC}')\n",
    "\n",
    "    plt.xlabel('Volume')\n",
    "    plt.ylabel('Price')\n",
    "    plt.title(f'Market Profile')\n",
    "    plt.legend()\n",
    "    plt.show()"
   ]
  },
  {
   "cell_type": "markdown",
   "metadata": {},
   "source": [
    "Este codigo no es necesario para la ejecución normal del analisis. Este nos ayuda a visualizar el perfil de volumen de una sesión, sin los niveles que estan por debajo de el threshold.\n",
    "\n",
    "```\n",
    "no_fair_value_prices = profile.copy() # En realidad son los precios que superan el threshold, pero mas tarde buscaremos los huecos.\n",
    "\n",
    "no_fair_value_prices['tick_volume'] = no_fair_value_prices['tick_volume'][no_fair_value_prices['tick_volume'] > threshold]\n",
    "\n",
    "plt.figure(figsize=(10, 6))\n",
    "plt.barh(no_fair_value_prices['close'], no_fair_value_prices['tick_volume'], color='blue', edgecolor='black')\n",
    "plt.xlabel('Volume')\n",
    "plt.ylabel('Price')\n",
    "plt.title(f'Market Profile')\n",
    "plt.legend()\n",
    "plt.show()\n",
    "```"
   ]
  },
  {
   "cell_type": "code",
   "execution_count": 135,
   "metadata": {},
   "outputs": [],
   "source": [
    "def get_no_fair_range_zone(df, threshold):\n",
    "    # Crear una máscara booleana para identificar dónde 'tick_volume' es inferior al umbral\n",
    "    df.sort_values(by=['close'])\n",
    "    mask = df['tick_volume'] < threshold\n",
    "\n",
    "    # Encontrar los índices donde empieza y termina cada zona\n",
    "    rangos = []\n",
    "    inicio = None\n",
    "    rsize = 0\n",
    "    rango_max = []\n",
    "\n",
    "    for i in range(len(df)):\n",
    "        if mask[i]:\n",
    "            if inicio is None:  # Se inicia una nueva zona\n",
    "                inicio = i\n",
    "        else:\n",
    "            if inicio is not None:  # Se cierra la zona actual\n",
    "                rangos.append([inicio, i - 1])\n",
    "                inicio = None\n",
    "\n",
    "    # Si la última zona no se cierra explícitamente en el bucle\n",
    "    if inicio is not None:\n",
    "        rangos.append([inicio, len(df) - 1])\n",
    "                 \n",
    "    for rango in rangos:\n",
    "        if rsize <= (rango[1] - rango[0]):  \n",
    "              rsize = rango[1] - rango[0]\n",
    "              rango_max = rango\n",
    "\n",
    "    if len(rangos) < 1:\n",
    "        return False\n",
    "    return [df.loc[rango_max[0], 'close'], df.loc[rango_max[1], 'close']]"
   ]
  },
  {
   "cell_type": "code",
   "execution_count": 136,
   "metadata": {},
   "outputs": [],
   "source": [
    "# iteramos cada dia, y cada zona\n",
    "def get_zone_by_day(df):\n",
    "    out = []\n",
    "\n",
    "    for index1, day in df.groupby(df.index.date):\n",
    "\n",
    "        profile, value_area_df, POC = create_market_profile(day)\n",
    "        mean = profile['tick_volume'].mean()\n",
    "        stddev = profile['tick_volume'].std()\n",
    "        threshold = mean + stddev * 0.5\n",
    "\n",
    "        no_fair_value_zone = get_no_fair_range_zone(profile, threshold)\n",
    "        \n",
    "        output = {\n",
    "            \"date\": index1.strftime('%Y-%m-%d'),\n",
    "            \"zone\": no_fair_value_zone,\n",
    "        }\n",
    "        out.append(output)\n",
    "\n",
    "    return out"
   ]
  },
  {
   "cell_type": "markdown",
   "metadata": {},
   "source": [
    "## Analisis de datos\n",
    "\n",
    "A partir de aqui, ya disponemos de las herramientas de manipulación de los datos, como para poder empezar a analizarlos.\n",
    "\n",
    "Disponemos de una lista \"ZONES_BY_DAY\", la qual nos permitirá referenciar las zonas de baja cotización por dia, y sus niveles de precio. Asi podemos hacer un analisis más comodo."
   ]
  },
  {
   "cell_type": "markdown",
   "metadata": {},
   "source": [
    "### 1. Next session close zone\n",
    "\n",
    "Analizaremos si en la siguiente sesión, el precio cierra el \"vacio\" creado por la zona de baja cotización del dia anterior."
   ]
  },
  {
   "cell_type": "code",
   "execution_count": null,
   "metadata": {},
   "outputs": [],
   "source": [
    "def num1_next_session_close_zone():\n",
    "    \n",
    "    return False"
   ]
  }
 ],
 "metadata": {
  "kernelspec": {
   "display_name": "Python 3",
   "language": "python",
   "name": "python3"
  },
  "language_info": {
   "codemirror_mode": {
    "name": "ipython",
    "version": 3
   },
   "file_extension": ".py",
   "mimetype": "text/x-python",
   "name": "python",
   "nbconvert_exporter": "python",
   "pygments_lexer": "ipython3",
   "version": "3.12.2"
  }
 },
 "nbformat": 4,
 "nbformat_minor": 2
}
