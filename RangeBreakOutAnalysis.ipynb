{
 "cells": [
  {
   "cell_type": "markdown",
   "metadata": {},
   "source": [
    "# Analisis de datos para mejorar la estrategia de RangeBreakOut en el GOLD.\n",
    "\n",
    "Pratimos de la base de que esta estrategia pudiera ser rentable.\n",
    "Nos interesa mucho tener una gestión del riesgo exquisita, ya que esta estrategia esta enfocada a pasar cuentas de fondeo.\n",
    "Por tanto, en este Notebook vamos a analizar ciertos datos historicos que nos pueden ayudar a establecer SL, TP y gestión de riesgo avanzada a nuestro algoritmo de RangeBreakOut.\n",
    "\n",
    "## Listado de datos a extraer:\n",
    "- Rango promedio diario de movimiento\n",
    "- StdDev del rango promedio diario de movimiento"
   ]
  },
  {
   "cell_type": "code",
   "execution_count": 2,
   "metadata": {},
   "outputs": [],
   "source": [
    "import yfinance as yf\n",
    "import pandas as pd"
   ]
  }
 ],
 "metadata": {
  "kernelspec": {
   "display_name": "Python 3",
   "language": "python",
   "name": "python3"
  },
  "language_info": {
   "codemirror_mode": {
    "name": "ipython",
    "version": 3
   },
   "file_extension": ".py",
   "mimetype": "text/x-python",
   "name": "python",
   "nbconvert_exporter": "python",
   "pygments_lexer": "ipython3",
   "version": "3.12.2"
  }
 },
 "nbformat": 4,
 "nbformat_minor": 2
}
